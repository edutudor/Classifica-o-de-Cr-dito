{
 "cells": [
  {
   "cell_type": "markdown",
   "metadata": {},
   "source": [
    "### 01 - Teste de gravidez\n",
    "Escreva uma célula com controle de fluxos que tem como premissa a existência das seguintes variáveis:\n",
    "\n",
    "- ```sexo``` como ```str``` indicando os valores '**M**' para masculino e '**F**' para feminino  \n",
    "- ```beta_hcg``` que indica a quantidade do beta-HCG no sangue em mUI/mL.\n",
    "\n",
    "A sua tarefa é escrever um código que imprima como resultado \"indivíduo do sexo masculino\" quando sexo = 'M', caso sexo = 'F', se o valor de beta-HCG for maior que 5, retorne \"Positivo\" indicando que a paciente está grávida, e retorne \"Negativo\" caso contrário.\n",
    "\n",
    "Não mexa nos valores da variável ```sexo``` nem em ```beta_hcg```, e escreva um código que funcione para quaisquer valores possíveis de ambos: ```sexo``` = '**M**' ou '**F**' e ```beta_hcg``` assumindo valores inteiros positivos."
   ]
  },
  {
   "cell_type": "code",
   "execution_count": 1,
   "metadata": {},
   "outputs": [
    {
     "name": "stdout",
     "output_type": "stream",
     "text": [
      "Indivíduo do sexo Masculino\n",
      "Negativo\n"
     ]
    }
   ],
   "source": [
    "sexo = 'M'\n",
    "beta_hcg = 0\n",
    "\n",
    "# seu código vem abaixo desta linha\n",
    "if sexo == 'M':\n",
    "    print ('Indivíduo do sexo Masculino')\n",
    "elif sexo != 'M':\n",
    "    print ('Indivíduo do sexo Feminino')\n",
    "    \n",
    "if beta_hcg > 5:\n",
    "    print ('Positivo')\n",
    "elif beta_hcg <= 5:\n",
    "    print ('Negativo')\n"
   ]
  },
  {
   "cell_type": "markdown",
   "metadata": {},
   "source": [
    "### 02 - Renomeando variáveis\n",
    "\n",
    "Vamos ver adiante que uma forma de renomear variáveis de um conjunto de dados é através de dicionários - o dicionário deve conter como chave o nome original, associando a cada chave um único valor (tipo *str*) que contenha o nome novo.\n",
    "\n",
    "A sua tarefa é escrever um dicionário que possa ser utilizado para traduzir as variáveis ```name``` (nome), ```age``` (idade) e ```income``` (renda). Ou seja, esse dicionário deve relacionar as chaves *name, age* e *income* às suas respectivas traduções."
   ]
  },
  {
   "cell_type": "code",
   "execution_count": 5,
   "metadata": {},
   "outputs": [
    {
     "data": {
      "text/plain": [
       "{'': ''}"
      ]
     },
     "execution_count": 5,
     "metadata": {},
     "output_type": "execute_result"
    }
   ],
   "source": [
    "dic_renomeacao = {'': ''}\n",
    "dic_renomeacao"
   ]
  },
  {
   "cell_type": "code",
   "execution_count": 7,
   "metadata": {},
   "outputs": [
    {
     "data": {
      "text/plain": [
       "{'name': 'nome', 'age': 'idade', 'income': 'renda'}"
      ]
     },
     "execution_count": 7,
     "metadata": {},
     "output_type": "execute_result"
    }
   ],
   "source": [
    "dic_traducao = {'name': 'nome', 'age': 'idade', 'income': 'renda'}\n",
    "dic_traducao"
   ]
  },
  {
   "cell_type": "markdown",
   "metadata": {},
   "source": [
    "### 03 - É divisível?\n",
    "A sua tarefa é escrever um código que indique se um número ```N``` é divisível por um número P. Escreva um programa que faça essa verificação para quaisquer combinações de ```N``` e ```M``` e devolva uma mensagem indicativa no output."
   ]
  },
  {
   "cell_type": "code",
   "execution_count": 12,
   "metadata": {},
   "outputs": [
    {
     "name": "stdout",
     "output_type": "stream",
     "text": [
      "7\n",
      "8\n",
      "9\n",
      "10\n",
      "11\n",
      "12\n",
      "13\n",
      "14\n",
      "15\n",
      "16\n",
      "17\n",
      "18\n",
      "19\n",
      "20\n",
      "21\n",
      "22\n",
      "23\n",
      "24\n",
      "25\n",
      "26\n",
      "27\n",
      "28\n",
      "29\n",
      "30\n",
      "31\n",
      "32\n",
      "33\n",
      "34\n",
      "35\n",
      "36\n",
      "37\n",
      "38\n",
      "39\n",
      "40\n",
      "41\n"
     ]
    }
   ],
   "source": [
    "M = 7\n",
    "N = 42\n",
    "P = 2\n",
    "\n",
    "#Seu código\n",
    "for divisivel in range (M, N):\n",
    "    print(divisivel)"
   ]
  },
  {
   "cell_type": "code",
   "execution_count": 16,
   "metadata": {},
   "outputs": [
    {
     "name": "stdout",
     "output_type": "stream",
     "text": [
      "Não divisível\n"
     ]
    }
   ],
   "source": [
    "if M % P == 0:\n",
    "    print(\"É divisivel\")\n",
    "else:\n",
    "        print('Não divisível')"
   ]
  },
  {
   "cell_type": "code",
   "execution_count": 17,
   "metadata": {},
   "outputs": [
    {
     "name": "stdout",
     "output_type": "stream",
     "text": [
      "É divisivel\n"
     ]
    }
   ],
   "source": [
    "if N % P == 0:\n",
    "    print(\"É divisivel\")\n",
    "else:\n",
    "        print('Não divisível')"
   ]
  },
  {
   "cell_type": "markdown",
   "metadata": {},
   "source": [
    "### 04 - Números primos\n",
    "> Um número **N** é primo se e somente se é divisível por 1, -1, por **N** e por -**N**.  \n",
    "\n",
    "Escreva um script que verifica se ```N``` é um número primo, verificando se ```N``` é divisível por todos os números de ```1``` a ```N-1```. Você vai precisar usar alguma ferramenta de *loop* que você aprendeu para isto. No final, devolva uma mensagem no output indicando se o número é primo ou não."
   ]
  },
  {
   "cell_type": "code",
   "execution_count": 28,
   "metadata": {},
   "outputs": [
    {
     "name": "stdout",
     "output_type": "stream",
     "text": [
      "Verificar numeros primos ate: 47\n",
      "É primo\n"
     ]
    }
   ],
   "source": [
    "n = 47\n",
    "\n",
    "# seu código abaixo\n",
    "\n",
    "n = int(input(\"Verificar numeros primos ate: \"))\n",
    "mult=0\n",
    "\n",
    "for count in range(2,n):\n",
    "    if (n % count == 0):\n",
    "        print(\"Múltiplo de\",count)\n",
    "        mult += 1\n",
    "\n",
    "if(mult==0):\n",
    "    print(\"É primo\")\n",
    "else:\n",
    "    print(\"Tem\",mult,\" múltiplos acima de 2 e abaixo de\",n)\n"
   ]
  },
  {
   "cell_type": "markdown",
   "metadata": {},
   "source": [
    "### 05 - Desafio\n",
    "O algorítmo do exercício anterior não é o mais eficiente. O que você pode fazer para deixá-lo mais eficiente? Ou seja, executar menos comparações, portanto consumir menos tempo.\n",
    "1. Será que precisamos correr o loop até o final sempre?\n",
    "2. Será que precisamos mesmo verificar **todos** os números?\n",
    "3. Será que precisamos ir até N-1?\n",
    "\n",
    "Essas perguntas levam ao tipo de pensamento voltado a deixar um algoritmo mais eficiente. Veja se você consegue melhorar o seu."
   ]
  },
  {
   "cell_type": "code",
   "execution_count": 29,
   "metadata": {},
   "outputs": [
    {
     "name": "stdout",
     "output_type": "stream",
     "text": [
      "Verificar numeros primos ate: 98\n",
      "Múltiplo de 2\n",
      "Múltiplo de 7\n",
      "Múltiplo de 14\n",
      "Múltiplo de 49\n",
      "Tem 4  múltiplos acima de 2 e abaixo de 98\n"
     ]
    }
   ],
   "source": [
    "n = 98\n",
    "\n",
    "# seu código aqui\n",
    "\n",
    "n = int(input(\"Verificar numeros primos ate: \"))\n",
    "mult=0\n",
    "\n",
    "for count in range(2,n):\n",
    "    if (n % count == 0):\n",
    "        print(\"Múltiplo de\",count)\n",
    "        mult += 1\n",
    "\n",
    "if(mult==0):\n",
    "    print(\"É primo\")\n",
    "else:\n",
    "    print(\"Tem\",mult,\" múltiplos acima de 2 e abaixo de\",n)"
   ]
  },
  {
   "cell_type": "markdown",
   "metadata": {},
   "source": [
    "### 06 - Peso ideal 1\n",
    "O IMC (índice de massa corpórea) é um indicador de saúde mais bem aceito que o peso. Ele é calculado como:\n",
    "\n",
    "$$ IMC = \\dfrac{peso}{altura^2}$$\n",
    "\n",
    "Segundo a OMS, valores *normais* são entre 18.5 e 24.9.\n",
    "\n",
    "Sua tarefa é encontrar o ponto médio dessa faixa."
   ]
  },
  {
   "cell_type": "code",
   "execution_count": 9,
   "metadata": {},
   "outputs": [
    {
     "name": "stdout",
     "output_type": "stream",
     "text": [
      "21.7\n"
     ]
    }
   ],
   "source": [
    "IMC_inicial = 18.5\n",
    "IMC_final = 24.9\n",
    "\n",
    "ponto_medio_IMC = (IMC_inicial + IMC_final)/2\n",
    "print (ponto_medio_IMC)"
   ]
  },
  {
   "cell_type": "markdown",
   "metadata": {},
   "source": [
    "### 07 - Peso ideal 2\n",
    "Recebendo um valor de altura, encontre o peso '*ideal*' dessa pessoa, que fornece o IMC encontrado acima"
   ]
  },
  {
   "cell_type": "code",
   "execution_count": 10,
   "metadata": {},
   "outputs": [
    {
     "data": {
      "text/plain": [
       "62.712999999999994"
      ]
     },
     "execution_count": 10,
     "metadata": {},
     "output_type": "execute_result"
    }
   ],
   "source": [
    "altura = 1.70\n",
    "\n",
    "# Seu código\n",
    "\n",
    "peso_ideal = altura ** 2 * ponto_medio_IMC\n",
    "peso_ideal"
   ]
  },
  {
   "cell_type": "markdown",
   "metadata": {},
   "source": [
    "### 08 - Peso ideal 3\n",
    "Dada uma lista contendo as alturas de pacientes, crie uma nova lista que contenha o peso '*ideal*' (que fornece o IMC calculado em **Peso ideal 1**) desses pacientes."
   ]
  },
  {
   "cell_type": "code",
   "execution_count": 11,
   "metadata": {},
   "outputs": [
    {
     "name": "stdout",
     "output_type": "stream",
     "text": [
      "[82.51424999999999, 91.19425, 62.712999999999994, 59.07824999999999]\n"
     ]
    }
   ],
   "source": [
    "lista_alturas = [1.95, 2.05, 1.70, 1.65]\n",
    "\n",
    "lista_peso_ideal = []\n",
    "\n",
    "# seu código\n",
    "\n",
    "lista_alturas = [1.95, 2.05, 1.70, 1.65]\n",
    "\n",
    "lista_peso_ideal = map(lambda num: num ** 2 * ponto_medio_IMC, lista_alturas)\n",
    "\n",
    "print(list(lista_peso_ideal))"
   ]
  },
  {
   "cell_type": "markdown",
   "metadata": {},
   "source": [
    "### 09 - Peso ideal 4\n",
    "Dada uma lista de tuplas - cada elemento da lista é uma tupla contendo altura e peso de um paciente - crie uma nova lista com o IMC desses pacientes."
   ]
  },
  {
   "cell_type": "code",
   "execution_count": 2,
   "metadata": {
    "scrolled": false
   },
   "outputs": [
    {
     "name": "stdout",
     "output_type": "stream",
     "text": [
      "[1.8, 1.65, 1.91]\n"
     ]
    }
   ],
   "source": [
    "altura_peso = [(1.80, 90), (1.65, 75), (1.91, 70)]\n",
    "\n",
    "imc = []\n",
    "\n",
    "# seu código\n",
    "\n",
    "tuple_list = [(1.80, 90), (1.65, 75), (1.91, 70)]\n",
    "first_tuple_elements = []\n",
    "\n",
    "for a_tuple in tuple_list:\n",
    "    \n",
    "    first_tuple_elements.append(a_tuple[0])\n",
    "print(first_tuple_elements)\n"
   ]
  },
  {
   "cell_type": "code",
   "execution_count": 3,
   "metadata": {},
   "outputs": [
    {
     "name": "stdout",
     "output_type": "stream",
     "text": [
      "[90, 75, 70]\n"
     ]
    }
   ],
   "source": [
    "tuple_list = [(1.80, 90), (1.65, 75), (1.91, 70)]\n",
    "second_tuple_elements = []\n",
    "\n",
    "for a_tuple in tuple_list:\n",
    "    \n",
    "    second_tuple_elements.append(a_tuple[1])\n",
    "print(second_tuple_elements)"
   ]
  },
  {
   "cell_type": "code",
   "execution_count": 4,
   "metadata": {},
   "outputs": [
    {
     "name": "stdout",
     "output_type": "stream",
     "text": [
      "[1.8, 1.65, 1.91]\n"
     ]
    }
   ],
   "source": [
    "alturas = first_tuple_elements\n",
    "print(alturas)\n"
   ]
  },
  {
   "cell_type": "code",
   "execution_count": 5,
   "metadata": {},
   "outputs": [
    {
     "name": "stdout",
     "output_type": "stream",
     "text": [
      "[90, 75, 70]\n"
     ]
    }
   ],
   "source": [
    "peso = second_tuple_elements\n",
    "print(peso)"
   ]
  },
  {
   "cell_type": "code",
   "execution_count": 6,
   "metadata": {},
   "outputs": [
    {
     "name": "stdout",
     "output_type": "stream",
     "text": [
      "[3.24, 2.7224999999999997, 3.6481]\n"
     ]
    }
   ],
   "source": [
    "altura = [1.8, 1.65, 1.91]\n",
    "\n",
    "altura_ao_quadrado = map(lambda num: num ** 2, altura)\n",
    "\n",
    "print(list(altura_ao_quadrado))"
   ]
  },
  {
   "cell_type": "code",
   "execution_count": 20,
   "metadata": {},
   "outputs": [],
   "source": [
    "peso = [90, 75, 70]\n",
    "altura_ao_quadrado = [3.24, 2.72, 3.64]"
   ]
  },
  {
   "cell_type": "code",
   "execution_count": 21,
   "metadata": {},
   "outputs": [
    {
     "name": "stdout",
     "output_type": "stream",
     "text": [
      "0\n",
      "1\n",
      "2\n"
     ]
    }
   ],
   "source": [
    "imc = []\n",
    "for i in range(len(peso)):\n",
    "    print(i)\n",
    "    imc.append(peso[i] / altura_ao_quadrado[i])"
   ]
  },
  {
   "cell_type": "code",
   "execution_count": 22,
   "metadata": {},
   "outputs": [
    {
     "name": "stdout",
     "output_type": "stream",
     "text": [
      "[27.777777777777775, 27.573529411764703, 19.23076923076923]\n"
     ]
    }
   ],
   "source": [
    "print(imc)"
   ]
  },
  {
   "cell_type": "markdown",
   "metadata": {},
   "source": [
    "### 10 - Peso ideal 5\n",
    "Dada uma lista de **listas** - cada elemento da lista é uma **lista** contendo altura e peso de um paciente, adicione mais um elemento à lista de cada paciente contendo o IMC do paciente. Verifique também se é 'baixo', 'normal' ou 'alto' segundo os padrões da OMS em que normal é entre 18.5 e 24.9.\n",
    "\n",
    "Reflexão: por que no problema anterior temos que criar uma nova lista, e não podemos adicionar os dados de cada indivíduo à tupla?"
   ]
  },
  {
   "cell_type": "code",
   "execution_count": 9,
   "metadata": {},
   "outputs": [
    {
     "data": {
      "text/plain": [
       "[[1.8, 90, 27.777777777777775, 'alto'],\n",
       " [1.65, 75, 27.548209366391188, 'alto'],\n",
       " [1.91, 70, 19.188070502453332, 'normal']]"
      ]
     },
     "execution_count": 9,
     "metadata": {},
     "output_type": "execute_result"
    }
   ],
   "source": [
    "altura_peso = [[1.80, 90], [1.65, 75], [1.91, 70]]\n",
    "\n",
    "# seu código\n",
    "\n",
    "altura_peso"
   ]
  }
 ],
 "metadata": {
  "kernelspec": {
   "display_name": "Python 3 (ipykernel)",
   "language": "python",
   "name": "python3"
  },
  "language_info": {
   "codemirror_mode": {
    "name": "ipython",
    "version": 3
   },
   "file_extension": ".py",
   "mimetype": "text/x-python",
   "name": "python",
   "nbconvert_exporter": "python",
   "pygments_lexer": "ipython3",
   "version": "3.9.12"
  }
 },
 "nbformat": 4,
 "nbformat_minor": 4
}
